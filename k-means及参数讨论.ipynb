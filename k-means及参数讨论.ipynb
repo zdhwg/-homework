{
 "cells": [
  {
   "cell_type": "markdown",
   "metadata": {},
   "source": [
    "# 数据预处理"
   ]
  },
  {
   "cell_type": "code",
   "execution_count": 1,
   "metadata": {},
   "outputs": [],
   "source": [
    "import numpy as np\n",
    "import pickle\n",
    "dataSet, dataLabel = pickle.load(open('data.pkl', 'rb'), encoding='latin1')\n"
   ]
  },
  {
   "cell_type": "code",
   "execution_count": null,
   "metadata": {},
   "outputs": [],
   "source": [
    "def visualization(k, dataSet, dataLabel, cents, labels, sse, lowestsse):   # 画出聚类结果\n",
    "    # 每一类用一种颜色\n",
    "    # colors = ['pink', 'blue', 'brown', 'cyan', 'darkgreen', 'darkorange', 'darkred', 'gray', 'navy', 'yellow']\n",
    "    colors = ['#FFC0CB','#0000FF','#A52A2A','#00FFFF','#006400','#FF8C00','#8B0000','#808080','#000080','#FFFF00']\n",
    "    # colors = ['b', 'g', 'r', 'k', 'c', 'm', 'y', '#e24fff', '#524C90', '#845868']\n",
    "    for i in range(k):\n",
    "        index = np.nonzero(labels == i)[0]\n",
    "        x0 = dataSet[index, 0]\n",
    "        x1 = dataSet[index, 1]\n",
    "        y_i = dataLabel[index]\n",
    "        for j in range(len(x0)):\n",
    "            plt.text(x0[j], x1[j], str(int(y_i[j])), color=colors[i], fontdict={'weight': 'bold', 'size': 9})\n",
    "        plt.scatter(cents[i, 0], cents[i, 1], marker='x', color=colors[i], linewidths=12)"
   ]
  },
  {
   "cell_type": "code",
   "execution_count": 72,
   "metadata": {},
   "outputs": [
    {
     "data": {
      "image/png": "[encoded data removed]",
      "text/plain": [
       "<Figure size 432x288 with 1 Axes>"
      ]
     },
     "metadata": {
      "needs_background": "light"
     },
     "output_type": "display_data"
    }
   ],
   "source": [
    "colors = ['#FFC0CB','#0000FF','#A52A2A','#00FFFF','#006400','#FF8C00','#8B0000','#808080','#000080','#FFFF00']\n",
    "k=10\n",
    "for i in range(k):\n",
    "    # plt.scatter(centroids[:, 0], centroids[:, 1], s=250, c='r', marker='+')\n",
    "    plt.scatter(dataSet[dataLabel==i, 0], dataSet[dataLabel==i, 1], color=colors[i])"
   ]
  },
  {
   "cell_type": "code",
   "execution_count": null,
   "metadata": {},
   "outputs": [],
   "source": [
    "#数据归一化"
   ]
  },
  {
   "cell_type": "code",
   "execution_count": 2,
   "metadata": {},
   "outputs": [],
   "source": [
    "def autoNorm(dataSet):\n",
    "    #获得数据的最小值\n",
    "    minVals = dataSet.min(0)\n",
    "    maxVals = dataSet.max(0)\n",
    "    #最大值和最小值的范围\n",
    "    ranges = maxVals - minVals\n",
    "    #shape(dataSet)返回dataSet的矩阵行列数\n",
    "    normDataSet = np.zeros(np.shape(dataSet))\n",
    "    #返回dataSet的行数\n",
    "    m = dataSet.shape[0]\n",
    "    #原始值减去最小值\n",
    "    normDataSet = dataSet - np.tile(minVals, (m, 1))\n",
    "    #除以最大和最小值的差,得到归一化数据\n",
    "    normDataSet = normDataSet / np.tile(ranges, (m, 1))\n",
    "    #返回归一化数据结果,数据范围,最小值\n",
    "    return normDataSet, ranges, minVals"
   ]
  },
  {
   "cell_type": "code",
   "execution_count": 3,
   "metadata": {},
   "outputs": [],
   "source": [
    "normDataSet, ranges, minVals = autoNorm(dataSet)"
   ]
  },
  {
   "cell_type": "code",
   "execution_count": null,
   "metadata": {},
   "outputs": [],
   "source": []
  },
  {
   "cell_type": "markdown",
   "metadata": {},
   "source": [
    "# KNN分类"
   ]
  },
  {
   "cell_type": "code",
   "execution_count": 46,
   "metadata": {},
   "outputs": [],
   "source": [
    "import time\n",
    "class kMeans(object):\n",
    "    def __init__(self, n_clusters=10, initCent='random', max_iter=100):\n",
    "        if hasattr(initCent, '__array__'):#预先设置初始聚类中心\n",
    "            n_clusters = initCent.shape[0]\n",
    "            self.centroids = np.asarray(initCent, dtype=np.float)\n",
    "        else:\n",
    "            self.centroids = None\n",
    "        self.n_clusters = n_clusters\n",
    "        self.max_iter = max_iter\n",
    "        self.initCent = initCent\n",
    "        self.clusterAssment = None\n",
    "        self.labels = None\n",
    "        self.sse = None\n",
    "    # 计算两个向量的欧式距离\n",
    "    def distEclud(self, vecA, vecB):\n",
    "        return np.linalg.norm(vecA - vecB)\n",
    "\n",
    "    # 计算两点的曼哈顿距离\n",
    "    def distManh(self, vecA, vecB):\n",
    "        return np.linalg.norm(vecA - vecB, ord=1)\n",
    "\n",
    "    # 随机化初始聚类中心\n",
    "    def randCent(self, X, k):\n",
    "        n = X.shape[1]  # 特征维数\n",
    "        centroids = np.empty((k, n))  # k*n的矩阵，用于存储每簇的质心\n",
    "        for j in range(n):  # 产生质心，一维一维地随机初始化\n",
    "            minJ = min(X[:, j])\n",
    "            rangeJ = float(max(X[:, j]) - minJ)\n",
    "            centroids[:, j] = (minJ + rangeJ * np.random.rand(k, 1)).flatten()\n",
    "        return centroids\n",
    "\n",
    "    def fit(self, X):\n",
    "        if not isinstance(X, np.ndarray):\n",
    "            try:\n",
    "                X = np.asarray(X)\n",
    "            except:\n",
    "                raise TypeError(\"numpy.ndarray required for X\")\n",
    "        m = X.shape[0]  # 样本数量\n",
    "        self.clusterAssment = np.empty((m, 2))  # m*2的矩阵，第一列表示样本属于哪一簇，第二列存储该样本与质心的平方误差(Squared Error,SE)\n",
    "        if self.initCent == 'random':   # 可以指定质心或者随机产生质心\n",
    "            self.centroids = self.randCent(X, self.n_clusters)\n",
    "        clusterChanged = True\n",
    "        for s in range(self.max_iter):# 指定最大迭代次数\n",
    "            clusterChanged = False\n",
    "            for i in range(m):  # 将每个样本分配到离它最近的质心所属的簇\n",
    "                minDist = np.inf\n",
    "                minIndex = -1\n",
    "                for j in range(self.n_clusters):    #遍历所有数据点找到距离每个点最近的质心\n",
    "                    distJI = self.distEclud(self.centroids[j, :], X[i, :])\n",
    "                    if distJI < minDist:\n",
    "                        minDist = distJI\n",
    "                        minIndex = j\n",
    "                if self.clusterAssment[i, 0] != minIndex:\n",
    "                    clusterChanged = True\n",
    "                    self.clusterAssment[i, :] = minIndex, minDist ** 2\n",
    "            if not clusterChanged:  # 若所有样本点所属的簇都不改变,则已收敛，提前结束迭代\n",
    "                print(\"迭代次数：\",s)\n",
    "                break\n",
    "            for i in range(self.n_clusters):  # 将每个簇中的点的均值作为质心\n",
    "                ptsInClust = X[np.nonzero(self.clusterAssment[:, 0] == i)[0]]  # 取出属于第i个族的所有点\n",
    "                if(len(ptsInClust) != 0):\n",
    "                    self.centroids[i, :] = np.mean(ptsInClust, axis=0)\n",
    "\n",
    "        self.labels = self.clusterAssment[:, 0]\n",
    "        self.sse = sum(self.clusterAssment[:, 1])   # Sum of Squared Error,SSE"
   ]
  },
  {
   "cell_type": "markdown",
   "metadata": {},
   "source": [
    "# 结果分析"
   ]
  },
  {
   "cell_type": "code",
   "execution_count": 83,
   "metadata": {},
   "outputs": [
    {
     "name": "stdout",
     "output_type": "stream",
     "text": [
      "迭代次数： 17\n",
      "用时： 1.2463581562042236\n"
     ]
    }
   ],
   "source": [
    "start=time.time()\n",
    "K = 10#设置聚类个数\n",
    "clf = kMeans(k)\n",
    "clf.fit(normDataSet)\n",
    "cents = clf.centroids\n",
    "labels = clf.labels\n",
    "sse = clf.sse\n",
    "end=time.time()\n",
    "print(\"用时：\",end-start)"
   ]
  },
  {
   "cell_type": "code",
   "execution_count": 95,
   "metadata": {},
   "outputs": [
    {
     "data": {
      "image/png": "[encoded data removed]",
      "text/plain": [
       "<Figure size 432x288 with 1 Axes>"
      ]
     },
     "metadata": {
      "needs_background": "light"
     },
     "output_type": "display_data"
    }
   ],
   "source": [
    "colors = ['#FFC0CB','#0000FF','#A52A2A','#00FFFF','#006400','#FF8C00','#8B0000','#808080','#000080','#FFFF00']\n",
    "k=10\n",
    "for i in range(k):\n",
    "    plt.scatter(cents[i, 0], cents[i, 1], s=250, c='r', marker='+')\n",
    "    plt.scatter(normDataSet[labels==i, 0], normDataSet[labels ==i, 1], color=colors[i])"
   ]
  },
  {
   "cell_type": "markdown",
   "metadata": {
    "heading_collapsed": true
   },
   "source": [
    "# 手肘法确定k值"
   ]
  },
  {
   "cell_type": "code",
   "execution_count": 108,
   "metadata": {
    "hidden": true
   },
   "outputs": [
    {
     "name": "stdout",
     "output_type": "stream",
     "text": [
      "迭代次数： 1\n",
      "迭代次数： 15\n",
      "迭代次数： 5\n",
      "迭代次数： 6\n",
      "迭代次数： 8\n",
      "迭代次数： 9\n",
      "迭代次数： 28\n",
      "迭代次数： 16\n",
      "迭代次数： 18\n",
      "迭代次数： 19\n",
      "迭代次数： 24\n",
      "迭代次数： 10\n",
      "迭代次数： 7\n",
      "迭代次数： 29\n",
      "迭代次数： 9\n",
      "迭代次数： 14\n",
      "迭代次数： 15\n",
      "迭代次数： 9\n",
      "迭代次数： 15\n",
      "[370.29718183 245.92469761 134.53558847  67.99797274  53.54284456\n",
      "  29.49332203  34.31068821  29.4046253   58.69838352  22.91704352\n",
      "  36.35848569  25.12287751  24.88229826  31.37119554  27.57954763\n",
      "  16.80420706  18.18386392  16.64355099  12.63225336]\n"
     ]
    }
   ],
   "source": [
    "max_K = 20\n",
    "K_range = np.arange(1, max_K, dtype=int)\n",
    "wks = np.zeros(len(K_range))\n",
    "for i, K in enumerate(K_range):\n",
    "    clf = kMeans(K)\n",
    "    clf.fit(normDataSet)\n",
    "    wks[i] =clf.sse\n",
    "print(wks)"
   ]
  },
  {
   "cell_type": "code",
   "execution_count": 110,
   "metadata": {
    "hidden": true
   },
   "outputs": [
    {
     "data": {
      "text/plain": [
       "Text(0, 0.5, 'Dk')"
      ]
     },
     "execution_count": 110,
     "metadata": {},
     "output_type": "execute_result"
    },
    {
     "data": {
      "image/png": "[encoded data removed]",
      "text/plain": [
       "<Figure size 432x288 with 1 Axes>"
      ]
     },
     "metadata": {
      "needs_background": "light"
     },
     "output_type": "display_data"
    }
   ],
   "source": [
    "plt.plot(K_range, wks, 'o-')\n",
    "plt.xlabel('K')\n",
    "plt.ylabel('Dk')"
   ]
  },
  {
   "cell_type": "markdown",
   "metadata": {
    "heading_collapsed": true
   },
   "source": [
    "# Gap Statistic"
   ]
  },
  {
   "cell_type": "code",
   "execution_count": 111,
   "metadata": {
    "hidden": true
   },
   "outputs": [],
   "source": [
    "def bounding_box(data):\n",
    "    dim = data.shape[1]\n",
    "    boxes = []\n",
    "    for i in range(dim):\n",
    "        data_min = np.amin(data[:, i])\n",
    "        data_max = np.amax(data[:, i])\n",
    "        boxes.append((data_min, data_max))\n",
    "    return boxes\n",
    "def gap_statistic(data, max_K, B, cluster_algorithm):\n",
    "    num_points, dim = data.shape\n",
    "    K_range = np.arange(1, max_K, dtype=int)\n",
    "    num_K = len(K_range)\n",
    "    boxes = bounding_box(data)\n",
    "    data_generate = np.zeros((num_points, dim))\n",
    "\n",
    "    log_Wks = np.zeros(num_K)\n",
    "    for indK, K in enumerate(K_range):\n",
    "        clf = cluster_algorithm(K)\n",
    "        clf.fit(data)\n",
    "#         cents = clf.centroids\n",
    "#         labels = clf.labels\n",
    "        log_Wks[indK] = np.log(clf.sse)\n",
    "#         cluster_centers, labels, _ = cluster_algorithm(data, K)\n",
    "#         log_Wks[indK] = np.log(calculate_Wk(data, cluster_centers, labels))\n",
    "    gaps = np.zeros(num_K)\n",
    "    sks = np.zeros(num_K)\n",
    "    log_Wkbs = np.zeros((B, num_K))\n",
    "\n",
    "    # generate B reference data sets\n",
    "    for b in range(B):\n",
    "        for i in range(num_points):\n",
    "            for j in range(dim):\n",
    "                data_generate[i, j] = \\\n",
    "                    np.random.uniform(boxes[j][0], boxes[j][1])\n",
    "        for indK, K in enumerate(K_range):\n",
    "            clf = cluster_algorithm(K)\n",
    "            clf.fit(data)\n",
    "#         cents = clf.centroids\n",
    "#         labels = clf.labels\n",
    "            log_Wkbs[b,indK] = np.log(clf.sse)\n",
    "    for k in range(num_K):\n",
    "        gaps[k] = np.mean(log_Wkbs[:, k]) - log_Wks[k]\n",
    "        sks[k] = np.std(log_Wkbs[:, k]) * np.sqrt(1 + 1.0 / B)\n",
    "    return gaps, sks, log_Wks\n"
   ]
  },
  {
   "cell_type": "code",
   "execution_count": null,
   "metadata": {
    "hidden": true
   },
   "outputs": [],
   "source": [
    "max_K = 20\n",
    "B = 20\n",
    "K_range = np.arange(1, max_K, dtype=int)\n",
    "gaps, stds, log_wks = gap_statistic(normDataSet, max_K, B,kMeans)"
   ]
  },
  {
   "cell_type": "code",
   "execution_count": null,
   "metadata": {
    "hidden": true
   },
   "outputs": [],
   "source": []
  },
  {
   "cell_type": "code",
   "execution_count": 117,
   "metadata": {
    "hidden": true
   },
   "outputs": [
    {
     "name": "stdout",
     "output_type": "stream",
     "text": [
      "Select K: 9\n"
     ]
    },
    {
     "data": {
      "text/plain": [
       "Text(0, 0.5, 'Gap')"
      ]
     },
     "execution_count": 117,
     "metadata": {},
     "output_type": "execute_result"
    },
    {
     "data": {
      "image/png": "[encoded data removed]",
      "text/plain": [
       "<Figure size 432x288 with 1 Axes>"
      ]
     },
     "metadata": {
      "needs_background": "light"
     },
     "output_type": "display_data"
    }
   ],
   "source": [
    "select_K = K_range[np.argmax(gaps)]\n",
    "print('Select K: {}'.format(select_K))\n",
    "\n",
    "plt.plot(K_range, gaps, 'o-')\n",
    "plt.xlabel('K')\n",
    "plt.ylabel('Gap')"
   ]
  },
  {
   "cell_type": "markdown",
   "metadata": {},
   "source": [
    "# 遗传算法进行初始化"
   ]
  },
  {
   "cell_type": "code",
   "execution_count": null,
   "metadata": {},
   "outputs": [],
   "source": [
    "from sklearn.decomposition import PCA\n",
    "import numpy as np\n",
    "import pandas as pd\n",
    "from sklearn.metrics import mean_squared_error\n",
    "from sklearn.cluster import KMeans\n",
    "from sklearn.model_selection import train_test_split\n",
    "from sklearn.metrics import pairwise_distances"
   ]
  },
  {
   "cell_type": "code",
   "execution_count": 39,
   "metadata": {},
   "outputs": [],
   "source": [
    "def fresh_property(population_current):\n",
    "    sum = 0\n",
    "    for i in range(Population_size):\n",
    "      #  print(i)\n",
    "        population_current[i][1]['fitness'] = objective_function(population_current[i])#计算适应度\n",
    "        sum += population_current[i][1]['fitness']\n",
    "    population_current[0][1]['rate_fit'] = population_current[0][1]['fitness'] / sum #\n",
    "    population_current[0][1]['cumm_fit'] = population_current[0][1]['rate_fit']\n",
    "    for i in range(Population_size):\n",
    "        population_current[i][1]['rate_fit'] = population_current[i][1]['fitness'] / sum\n",
    "        population_current[i][1]['cumm_fit'] = population_current[i][1]['rate_fit'] + population_current[i-1][1]['cumm_fit']  \n",
    "    print('finish_fresh')\n",
    "def objective_function(individual):\n",
    "    distance = 0\n",
    "    for index in normDataSet:\n",
    "        distance += np.array((np.subtract(individual[0],index)**2)).sum(axis=1).min()#求出所有样本点到种群个体的距离极小值\n",
    "    return distance\n",
    "\n",
    "\n",
    "\n",
    "def select(population_current,population_next):\n",
    "    for i in range(Population_size):\n",
    "      #  print('select',i)\n",
    "        rand = np.random.rand(1)\n",
    "        if rand <= population_current[0][1]['cumm_fit']:\n",
    "            population_next[i] = population_current[0]\n",
    "        else:\n",
    "            for j in range(Population_size):\n",
    "                if population_current[j][1]['cumm_fit'] <= rand and population_current[j+1][1]['cumm_fit'] >= rand:\n",
    "                    population_next[i] = population_current[j+1]\n",
    "                    break\n",
    "def crossover(population_next):\n",
    "    for i in range(Population_size):\n",
    "       # print('crossover',i)\n",
    "        rand = np.random.rand(1)\n",
    "        if rand <= Probability_crossover:\n",
    "            rand_cluster = np.random.randint(Cluster_number)\n",
    "            p1_num = np.random.randint(Population_size)\n",
    "            p2_num = np.random.randint(Population_size)\n",
    "            p1 = population_next[p1_num]\n",
    "            p2 = population_next[p2_num]\n",
    "            c1 = p1\n",
    "            c2 = p2\n",
    "            c1[0] = np.vstack([p1[0][:rand_cluster,:],p2[0][rand_cluster:,:]])\n",
    "            c2[0] = np.vstack([p2[0][:rand_cluster,:],p1[0][rand_cluster:,:]]) \n",
    "            test_c = [[],[]]            \n",
    "            test_c[0].extend([objective_function(c1),objective_function(c2),objective_function(p1),objective_function(p2)])      \n",
    "            test_c[1].extend([c1,c2,p1,p2])\n",
    "            population_next[p1_num] = test_c[1][test_c[0].index(min(test_c[0]))]\n",
    "            test_c[1] = test_c[1][:test_c[0].index(min(test_c[0]))] + test_c[1][test_c[0].index(min(test_c[0]))+1:]\n",
    "            test_c[0].remove(min(test_c[0]))   \n",
    "            population_next[p2_num] = test_c[1][test_c[0].index(min(test_c[0]))]\n",
    "def mutation(population_next):\n",
    "    for i in range(Population_size):\n",
    "       # print('mutation')\n",
    "        rand = np.random.rand(1)\n",
    "        if rand <= Probability_mutation:\n",
    "            mutation_array = np.ones([Cluster_number,Dimension_number])\n",
    "            for k in range(Cluster_number):\n",
    "                rand_pick = np.random.randint(Population_size)\n",
    "                mutation_array[k] = population_next[rand_pick][0][k]\n",
    "            if objective_function([mutation_array]) < objective_function(population_next[i]):\n",
    "                population_next[i][0] = mutation_array"
   ]
  },
  {
   "cell_type": "code",
   "execution_count": null,
   "metadata": {},
   "outputs": [],
   "source": []
  },
  {
   "cell_type": "code",
   "execution_count": 40,
   "metadata": {},
   "outputs": [
    {
     "name": "stdout",
     "output_type": "stream",
     "text": [
      "finish_fresh\n"
     ]
    }
   ],
   "source": [
    "Population_size = 40\n",
    "Dimension_number = 2\n",
    "Cluster_number=10\n",
    "cluster_num=10\n",
    "#初始化个体\n",
    "population_current = []\n",
    "population_next = []\n",
    "for i in range(Population_size):\n",
    "    gene_array = np.array([])\n",
    "    for j in range(Dimension_number):\n",
    "        gene = np.random.uniform(0,1,(Cluster_number,1))\n",
    "        if len(gene_array) == 0:\n",
    "            gene_array = gene\n",
    "        else:\n",
    "            gene_array = np.hstack([gene_array,gene])\n",
    "    population_current.append([gene_array,{'rate_fit':0,'cumm_fit':0,'fitness':0}])\n",
    "population_next = population_current[:]    \n",
    "fresh_property(population_current)"
   ]
  },
  {
   "cell_type": "code",
   "execution_count": null,
   "metadata": {},
   "outputs": [],
   "source": [
    "iteration_num = 100\n",
    "Probability_crossover = 0.5\n",
    "Probability_mutation = 0.0001\n",
    "for i in range(iteration_num):\n",
    "    print('iteration',i)\n",
    "    select(population_current,population_next)\n",
    "    crossover(population_next)\n",
    "    mutation(population_next)\n",
    "    fresh_property(population_next)\n",
    "    population_current = population_next[:]"
   ]
  },
  {
   "cell_type": "code",
   "execution_count": 51,
   "metadata": {},
   "outputs": [
    {
     "name": "stderr",
     "output_type": "stream",
     "text": [
      "D:\\Anaconda\\anaconda\\lib\\site-packages\\ipykernel_launcher.py:41: FutureWarning: elementwise comparison failed; returning scalar instead, but in the future will perform elementwise comparison\n"
     ]
    },
    {
     "name": "stdout",
     "output_type": "stream",
     "text": [
      "迭代次数： 15\n",
      "用时： 1.0911171436309814\n"
     ]
    }
   ],
   "source": [
    "k=10\n",
    "start=time.time()\n",
    "clf = kMeans(k,initCent=population_next[0][0])\n",
    "clf.fit(normDataSet)\n",
    "cents = clf.centroids\n",
    "labels = clf.labels\n",
    "sse = clf.sse\n",
    "end=time.time()\n",
    "print(\"用时：\",end-start)"
   ]
  },
  {
   "cell_type": "code",
   "execution_count": 54,
   "metadata": {},
   "outputs": [
    {
     "data": {
      "image/png": "[encoded data removed]",
      "text/plain": [
       "<Figure size 432x288 with 1 Axes>"
      ]
     },
     "metadata": {
      "needs_background": "light"
     },
     "output_type": "display_data"
    }
   ],
   "source": [
    "from matplotlib import pyplot as plt\n",
    "colors = ['#FFC0CB','#0000FF','#A52A2A','#00FFFF','#006400','#FF8C00','#8B0000','#808080','#000080','#FFFF00']\n",
    "k=10\n",
    "for i in range(k):\n",
    "    plt.scatter(cents[i, 0], cents[i, 1], s=250, c='r', marker='+')\n",
    "    plt.scatter(normDataSet[labels==i, 0], normDataSet[labels ==i, 1], color=colors[i])\n",
    "plt.show()"
   ]
  },
  {
   "cell_type": "code",
   "execution_count": null,
   "metadata": {},
   "outputs": [],
   "source": []
  },
  {
   "cell_type": "code",
   "execution_count": 125,
   "metadata": {},
   "outputs": [],
   "source": []
  },
  {
   "cell_type": "code",
   "execution_count": null,
   "metadata": {},
   "outputs": [],
   "source": []
  },
  {
   "cell_type": "code",
   "execution_count": null,
   "metadata": {},
   "outputs": [],
   "source": []
  },
  {
   "cell_type": "code",
   "execution_count": null,
   "metadata": {},
   "outputs": [],
   "source": []
  },
  {
   "cell_type": "code",
   "execution_count": null,
   "metadata": {},
   "outputs": [],
   "source": []
  },
  {
   "cell_type": "code",
   "execution_count": null,
   "metadata": {},
   "outputs": [],
   "source": []
  }
 ],
 "metadata": {
  "kernelspec": {
   "display_name": "Python 3",
   "language": "python",
   "name": "python3"
  },
  "language_info": {
   "codemirror_mode": {
    "name": "ipython",
    "version": 3
   },
   "file_extension": ".py",
   "mimetype": "text/x-python",
   "name": "python",
   "nbconvert_exporter": "python",
   "pygments_lexer": "ipython3",
   "version": "3.6.8"
  }
 },
 "nbformat": 4,
 "nbformat_minor": 2
}
